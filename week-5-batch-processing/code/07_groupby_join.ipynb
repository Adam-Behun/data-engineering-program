{
 "cells": [
  {
   "cell_type": "code",
   "execution_count": 64,
   "id": "f8f2c6b5",
   "metadata": {},
   "outputs": [],
   "source": [
    "import pyspark\n",
    "from pyspark.sql import SparkSession\n",
    "\n",
    "spark = SparkSession.builder \\\n",
    "    .master(\"local[*]\") \\\n",
    "    .appName('test') \\\n",
    "    .getOrCreate()"
   ]
  },
  {
   "cell_type": "code",
   "execution_count": 65,
   "id": "0c1b57f7",
   "metadata": {
    "scrolled": true
   },
   "outputs": [],
   "source": [
    "df_green = spark.read.parquet('data/pq/green/*/*')"
   ]
  },
  {
   "cell_type": "code",
   "execution_count": 66,
   "id": "bdf844de",
   "metadata": {},
   "outputs": [],
   "source": [
    "df_green.registerTempTable('green')"
   ]
  },
  {
   "cell_type": "code",
   "execution_count": 67,
   "id": "495d7aa9",
   "metadata": {},
   "outputs": [],
   "source": [
    "df_green_revenue = spark.sql(\"\"\"\n",
    "SELECT \n",
    "    date_trunc('hour', lpep_pickup_datetime) AS hour, \n",
    "    PULocationID AS zone,\n",
    "\n",
    "    SUM(total_amount) AS amount,\n",
    "    COUNT(1) AS number_records\n",
    "FROM\n",
    "    green\n",
    "WHERE\n",
    "    lpep_pickup_datetime >= '2020-01-01 00:00:00'\n",
    "GROUP BY\n",
    "    1, 2\n",
    "\"\"\")"
   ]
  },
  {
   "cell_type": "code",
   "execution_count": 68,
   "id": "3b561ca7",
   "metadata": {
    "scrolled": true
   },
   "outputs": [],
   "source": [
    "df_green_revenue \\\n",
    "    .repartition(20) \\\n",
    "    .write.parquet('data/report/revenue/green', mode='overwrite')"
   ]
  },
  {
   "cell_type": "code",
   "execution_count": 69,
   "id": "9ed804e0",
   "metadata": {},
   "outputs": [],
   "source": [
    "df_yellow = spark.read.parquet('data/pq/yellow/*/*')\n",
    "df_yellow.registerTempTable('yellow')"
   ]
  },
  {
   "cell_type": "code",
   "execution_count": 70,
   "id": "f0bc5756",
   "metadata": {},
   "outputs": [],
   "source": [
    "df_yellow_revenue = spark.sql(\"\"\"\n",
    "SELECT \n",
    "    date_trunc('hour', tpep_pickup_datetime) AS hour, \n",
    "    PULocationID AS zone,\n",
    "\n",
    "    SUM(total_amount) AS amount,\n",
    "    COUNT(1) AS number_records\n",
    "FROM\n",
    "    yellow\n",
    "WHERE\n",
    "    tpep_pickup_datetime >= '2020-01-01 00:00:00'\n",
    "GROUP BY\n",
    "    1, 2\n",
    "\"\"\")"
   ]
  },
  {
   "cell_type": "code",
   "execution_count": 71,
   "id": "4c02b0bf",
   "metadata": {},
   "outputs": [],
   "source": [
    "df_yellow_revenue \\\n",
    "    .repartition(20) \\\n",
    "    .write.parquet('data/report/revenue/yellow', mode='overwrite')"
   ]
  },
  {
   "cell_type": "code",
   "execution_count": 72,
   "id": "8f14c51e",
   "metadata": {},
   "outputs": [],
   "source": [
    "df_green_revenue = spark.read.parquet('data/report/revenue/green')\n",
    "df_yellow_revenue = spark.read.parquet('data/report/revenue/yellow')"
   ]
  },
  {
   "cell_type": "code",
   "execution_count": 73,
   "id": "87033833",
   "metadata": {},
   "outputs": [],
   "source": [
    "df_green_revenue_tmp = df_green_revenue \\\n",
    "    .withColumnRenamed('amount', 'green_amount') \\\n",
    "    .withColumnRenamed('number_records', 'green_number_records')\n",
    "\n",
    "df_yellow_revenue_tmp = df_yellow_revenue \\\n",
    "    .withColumnRenamed('amount', 'yellow_amount') \\\n",
    "    .withColumnRenamed('number_records', 'yellow_number_records')"
   ]
  },
  {
   "cell_type": "code",
   "execution_count": 74,
   "id": "6b31dbaf",
   "metadata": {},
   "outputs": [],
   "source": [
    "df_join = df_green_revenue_tmp.join(df_yellow_revenue_tmp, on=['hour', 'zone'], how='outer')"
   ]
  },
  {
   "cell_type": "code",
   "execution_count": 75,
   "id": "8120a627",
   "metadata": {},
   "outputs": [],
   "source": [
    "df_join.write.parquet('data/report/revenue/total', mode='overwrite')"
   ]
  },
  {
   "cell_type": "code",
   "execution_count": 76,
   "id": "7aa46d56",
   "metadata": {},
   "outputs": [],
   "source": [
    "df_join = spark.read.parquet('data/report/revenue/total')"
   ]
  },
  {
   "cell_type": "code",
   "execution_count": 84,
   "id": "24f2e325",
   "metadata": {},
   "outputs": [
    {
     "data": {
      "text/plain": [
       "DataFrame[hour: timestamp, zone: int, green_amount: double, green_number_records: bigint, yellow_amount: double, yellow_number_records: bigint]"
      ]
     },
     "execution_count": 84,
     "metadata": {},
     "output_type": "execute_result"
    }
   ],
   "source": [
    "df_join"
   ]
  },
  {
   "cell_type": "code",
   "execution_count": 85,
   "id": "27831ae7",
   "metadata": {},
   "outputs": [],
   "source": [
    "df_zones = spark.read.parquet('zones/')"
   ]
  },
  {
   "cell_type": "code",
   "execution_count": 86,
   "id": "bc543476",
   "metadata": {
    "scrolled": false
   },
   "outputs": [],
   "source": [
    "df_result = df_join.join(df_zones, df_join.zone == df_zones.LocationID)"
   ]
  },
  {
   "cell_type": "code",
   "execution_count": 88,
   "id": "3a744161",
   "metadata": {},
   "outputs": [],
   "source": [
    "df_result.drop('LocationID', 'zone').write.parquet('tmp/revenue-zones')"
   ]
  },
  {
   "cell_type": "code",
   "execution_count": 89,
   "id": "e49f5b7a",
   "metadata": {
    "scrolled": false
   },
   "outputs": [
    {
     "name": "stdout",
     "output_type": "stream",
     "text": [
      "+----------+-------------+--------------------+------------+\n",
      "|LocationID|      Borough|                Zone|service_zone|\n",
      "+----------+-------------+--------------------+------------+\n",
      "|         1|          EWR|      Newark Airport|         EWR|\n",
      "|         2|       Queens|         Jamaica Bay|   Boro Zone|\n",
      "|         3|        Bronx|Allerton/Pelham G...|   Boro Zone|\n",
      "|         4|    Manhattan|       Alphabet City| Yellow Zone|\n",
      "|         5|Staten Island|       Arden Heights|   Boro Zone|\n",
      "|         6|Staten Island|Arrochar/Fort Wad...|   Boro Zone|\n",
      "|         7|       Queens|             Astoria|   Boro Zone|\n",
      "|         8|       Queens|        Astoria Park|   Boro Zone|\n",
      "|         9|       Queens|          Auburndale|   Boro Zone|\n",
      "|        10|       Queens|        Baisley Park|   Boro Zone|\n",
      "|        11|     Brooklyn|          Bath Beach|   Boro Zone|\n",
      "|        12|    Manhattan|        Battery Park| Yellow Zone|\n",
      "|        13|    Manhattan|   Battery Park City| Yellow Zone|\n",
      "|        14|     Brooklyn|           Bay Ridge|   Boro Zone|\n",
      "|        15|       Queens|Bay Terrace/Fort ...|   Boro Zone|\n",
      "|        16|       Queens|             Bayside|   Boro Zone|\n",
      "|        17|     Brooklyn|             Bedford|   Boro Zone|\n",
      "|        18|        Bronx|        Bedford Park|   Boro Zone|\n",
      "|        19|       Queens|           Bellerose|   Boro Zone|\n",
      "|        20|        Bronx|             Belmont|   Boro Zone|\n",
      "+----------+-------------+--------------------+------------+\n",
      "only showing top 20 rows\n",
      "\n"
     ]
    }
   ],
   "source": [
    "df_zones.show()"
   ]
  },
  {
   "cell_type": "code",
   "execution_count": 90,
   "id": "10529f41",
   "metadata": {
    "scrolled": false
   },
   "outputs": [
    {
     "name": "stdout",
     "output_type": "stream",
     "text": [
      "+-------------------+----+------------------+--------------------+------------------+---------------------+\n",
      "|               hour|zone|      green_amount|green_number_records|     yellow_amount|yellow_number_records|\n",
      "+-------------------+----+------------------+--------------------+------------------+---------------------+\n",
      "|2020-01-01 00:00:00|   3|              null|                null|              25.0|                    1|\n",
      "|2020-01-01 00:00:00|  12|              null|                null|106.99999999999999|                    6|\n",
      "|2020-01-01 00:00:00|  22|              15.8|                   1|              null|                 null|\n",
      "|2020-01-01 00:00:00|  25|             531.0|                  26|            324.35|                   16|\n",
      "|2020-01-01 00:00:00|  38| 98.78999999999999|                   2|              null|                 null|\n",
      "|2020-01-01 00:00:00|  42| 799.7599999999992|                  52| 635.3500000000001|                   46|\n",
      "|2020-01-01 00:00:00|  43|            107.52|                   6| 6539.510000000009|                  390|\n",
      "|2020-01-01 00:00:00|  59|              50.9|                   3|              null|                 null|\n",
      "|2020-01-01 00:00:00|  61|            526.71|                  17|            146.64|                    3|\n",
      "|2020-01-01 00:00:00|  77| 75.99000000000001|                   2|            134.24|                    3|\n",
      "|2020-01-01 00:00:00|  92|             80.72|                   3|              75.3|                    1|\n",
      "|2020-01-01 00:00:00|  95|202.20000000000005|                  15|               6.3|                    1|\n",
      "|2020-01-01 00:00:00| 100|              null|                null|            473.67|                   24|\n",
      "|2020-01-01 00:00:00| 123|             34.17|                   2|              null|                 null|\n",
      "|2020-01-01 00:00:00| 127|              null|                null|43.900000000000006|                    3|\n",
      "|2020-01-01 00:00:00| 138|              null|                null|           2745.88|                   72|\n",
      "|2020-01-01 00:00:00| 161|              null|                null| 9410.210000000021|                  488|\n",
      "|2020-01-01 00:00:00| 163|              null|                null| 2652.979999999998|                  152|\n",
      "|2020-01-01 00:00:00| 164|              null|                null| 5448.930000000001|                  292|\n",
      "|2020-01-01 00:00:00| 165|             66.14|                   2|              null|                 null|\n",
      "+-------------------+----+------------------+--------------------+------------------+---------------------+\n",
      "only showing top 20 rows\n",
      "\n"
     ]
    }
   ],
   "source": [
    "df_join.show()"
   ]
  },
  {
   "cell_type": "code",
   "execution_count": 91,
   "id": "16569e57",
   "metadata": {},
   "outputs": [
    {
     "name": "stdout",
     "output_type": "stream",
     "text": [
      "+-------------------+----+------------------+--------------------+------------------+---------------------+----------+---------+--------------------+------------+\n",
      "|               hour|zone|      green_amount|green_number_records|     yellow_amount|yellow_number_records|LocationID|  Borough|                Zone|service_zone|\n",
      "+-------------------+----+------------------+--------------------+------------------+---------------------+----------+---------+--------------------+------------+\n",
      "|2020-01-01 00:00:00|   3|              null|                null|              25.0|                    1|         3|    Bronx|Allerton/Pelham G...|   Boro Zone|\n",
      "|2020-01-01 00:00:00|  12|              null|                null|106.99999999999999|                    6|        12|Manhattan|        Battery Park| Yellow Zone|\n",
      "|2020-01-01 00:00:00|  22|              15.8|                   1|              null|                 null|        22| Brooklyn|    Bensonhurst West|   Boro Zone|\n",
      "|2020-01-01 00:00:00|  25|             531.0|                  26|            324.35|                   16|        25| Brooklyn|         Boerum Hill|   Boro Zone|\n",
      "|2020-01-01 00:00:00|  38| 98.78999999999999|                   2|              null|                 null|        38|   Queens|     Cambria Heights|   Boro Zone|\n",
      "|2020-01-01 00:00:00|  42| 799.7599999999992|                  52| 635.3500000000001|                   46|        42|Manhattan|Central Harlem North|   Boro Zone|\n",
      "|2020-01-01 00:00:00|  43|            107.52|                   6| 6539.510000000009|                  390|        43|Manhattan|        Central Park| Yellow Zone|\n",
      "|2020-01-01 00:00:00|  59|              50.9|                   3|              null|                 null|        59|    Bronx|        Crotona Park|   Boro Zone|\n",
      "|2020-01-01 00:00:00|  61|            526.71|                  17|            146.64|                    3|        61| Brooklyn| Crown Heights North|   Boro Zone|\n",
      "|2020-01-01 00:00:00|  77| 75.99000000000001|                   2|            134.24|                    3|        77| Brooklyn|East New York/Pen...|   Boro Zone|\n",
      "|2020-01-01 00:00:00|  92|             80.72|                   3|              75.3|                    1|        92|   Queens|            Flushing|   Boro Zone|\n",
      "|2020-01-01 00:00:00|  95|202.20000000000005|                  15|               6.3|                    1|        95|   Queens|        Forest Hills|   Boro Zone|\n",
      "|2020-01-01 00:00:00| 100|              null|                null|            473.67|                   24|       100|Manhattan|    Garment District| Yellow Zone|\n",
      "|2020-01-01 00:00:00| 123|             34.17|                   2|              null|                 null|       123| Brooklyn|           Homecrest|   Boro Zone|\n",
      "|2020-01-01 00:00:00| 127|              null|                null|43.900000000000006|                    3|       127|Manhattan|              Inwood|   Boro Zone|\n",
      "|2020-01-01 00:00:00| 138|              null|                null|           2745.88|                   72|       138|   Queens|   LaGuardia Airport|    Airports|\n",
      "|2020-01-01 00:00:00| 161|              null|                null| 9410.210000000021|                  488|       161|Manhattan|      Midtown Center| Yellow Zone|\n",
      "|2020-01-01 00:00:00| 163|              null|                null| 2652.979999999998|                  152|       163|Manhattan|       Midtown North| Yellow Zone|\n",
      "|2020-01-01 00:00:00| 164|              null|                null| 5448.930000000001|                  292|       164|Manhattan|       Midtown South| Yellow Zone|\n",
      "|2020-01-01 00:00:00| 165|             66.14|                   2|              null|                 null|       165| Brooklyn|             Midwood|   Boro Zone|\n",
      "+-------------------+----+------------------+--------------------+------------------+---------------------+----------+---------+--------------------+------------+\n",
      "only showing top 20 rows\n",
      "\n"
     ]
    }
   ],
   "source": [
    "df_result.show()"
   ]
  }
 ],
 "metadata": {
  "kernelspec": {
   "display_name": "Python 3 (ipykernel)",
   "language": "python",
   "name": "python3"
  },
  "language_info": {
   "codemirror_mode": {
    "name": "ipython",
    "version": 3
   },
   "file_extension": ".py",
   "mimetype": "text/x-python",
   "name": "python",
   "nbconvert_exporter": "python",
   "pygments_lexer": "ipython3",
   "version": "3.9.13"
  }
 },
 "nbformat": 4,
 "nbformat_minor": 5
}
