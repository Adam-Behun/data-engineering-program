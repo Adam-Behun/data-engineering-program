{
 "cells": [
  {
   "cell_type": "code",
   "execution_count": 8,
   "id": "2f3434e8",
   "metadata": {},
   "outputs": [],
   "source": [
    "import pyspark\n",
    "from pyspark.sql import SparkSession\n",
    "\n",
    "spark = SparkSession.builder \\\n",
    "    .master(\"local[*]\") \\\n",
    "    .appName('test') \\\n",
    "    .getOrCreate()"
   ]
  },
  {
   "cell_type": "code",
   "execution_count": 9,
   "id": "f07a4626",
   "metadata": {},
   "outputs": [],
   "source": [
    "df_green = spark.read.parquet('data/pq/green/*/*')"
   ]
  },
  {
   "cell_type": "code",
   "execution_count": 10,
   "id": "3a0393aa",
   "metadata": {
    "scrolled": true
   },
   "outputs": [
    {
     "name": "stdout",
     "output_type": "stream",
     "text": [
      "+--------+--------------------+---------------------+------------------+----------+------------+------------+---------------+-------------+-----------+-----+-------+----------+------------+---------+---------------------+------------+------------+---------+--------------------+\n",
      "|VendorID|lpep_pickup_datetime|lpep_dropoff_datetime|store_and_fwd_flag|RatecodeID|PULocationID|DOLocationID|passenger_count|trip_distance|fare_amount|extra|mta_tax|tip_amount|tolls_amount|ehail_fee|improvement_surcharge|total_amount|payment_type|trip_type|congestion_surcharge|\n",
      "+--------+--------------------+---------------------+------------------+----------+------------+------------+---------------+-------------+-----------+-----+-------+----------+------------+---------+---------------------+------------+------------+---------+--------------------+\n",
      "|       2| 2020-01-16 23:31:44|  2020-01-16 23:46:21|                 N|         1|          65|          56|              1|          8.6|       24.5|  0.5|    0.5|       0.0|         0.0|     null|                  0.3|        25.8|           2|        1|                 0.0|\n",
      "|       2| 2020-01-14 15:01:42|  2020-01-14 15:28:14|                 N|         1|         129|         141|              5|         5.16|       20.5|  0.0|    0.5|       0.0|         0.0|     null|                  0.3|       24.05|           2|        1|                2.75|\n",
      "|    null| 2020-01-24 05:55:00|  2020-01-24 06:26:00|              null|      null|         242|         261|           null|        16.27|       53.2| 2.75|    0.5|       0.0|        6.12|     null|                  0.3|       62.87|        null|     null|                null|\n",
      "|       2| 2020-01-31 08:19:03|  2020-01-31 08:24:35|                 N|         1|         166|         238|              1|         1.42|        6.5|  0.0|    0.5|      1.46|         0.0|     null|                  0.3|        8.76|           1|        1|                 0.0|\n",
      "|    null| 2020-01-12 18:54:00|  2020-01-12 19:11:00|              null|      null|          41|         235|           null|         4.62|      14.24|  0.0|    0.0|       0.0|         0.0|     null|                  0.3|       14.54|        null|     null|                null|\n",
      "|       2| 2020-01-11 17:13:41|  2020-01-11 17:33:40|                 N|         1|          66|          49|              6|         2.67|       14.5|  0.0|    0.5|      3.06|         0.0|     null|                  0.3|       18.36|           1|        1|                 0.0|\n",
      "|       2| 2020-01-29 19:23:03|  2020-01-29 19:29:47|                 N|         1|         260|         226|              2|         0.64|        6.0|  1.0|    0.5|       1.0|         0.0|     null|                  0.3|         8.8|           1|        1|                 0.0|\n",
      "|       2| 2020-01-26 11:45:13|  2020-01-26 11:47:10|                 N|         1|         116|         116|              1|         0.43|        3.5|  0.0|    0.5|       0.0|         0.0|     null|                  0.3|         4.3|           2|        1|                 0.0|\n",
      "|       2| 2020-01-03 08:58:57|  2020-01-03 09:07:19|                 N|         1|          74|          75|              1|         1.38|        7.0|  0.0|    0.5|       0.0|         0.0|     null|                  0.3|         7.8|           2|        1|                 0.0|\n",
      "|       2| 2020-01-27 21:56:19|  2020-01-27 22:01:04|                 N|         1|          41|          74|              1|          1.0|        5.5|  0.5|    0.5|      1.02|         0.0|     null|                  0.3|        7.82|           1|        1|                 0.0|\n",
      "|       2| 2020-01-09 20:15:26|  2020-01-09 20:27:42|                 N|         1|         260|         129|              2|         1.42|        9.0|  0.5|    0.5|       0.0|         0.0|     null|                  0.3|        10.3|           2|        1|                 0.0|\n",
      "|    null| 2020-01-24 14:53:00|  2020-01-24 15:21:00|              null|      null|         167|          46|           null|         8.23|      33.66| 2.75|    0.0|       0.0|         0.0|     null|                  0.3|       36.71|        null|     null|                null|\n",
      "|    null| 2020-01-19 17:16:00|  2020-01-19 17:41:00|              null|      null|         223|          82|           null|         6.71|      25.21| 2.75|    0.0|       0.0|         0.0|     null|                  0.3|       28.26|        null|     null|                null|\n",
      "|       1| 2020-01-07 11:58:40|  2020-01-07 12:38:14|                 N|         1|          33|          76|              1|          0.0|       26.2|  0.0|    0.5|       0.0|         0.0|     null|                  0.3|        27.0|           1|        1|                 0.0|\n",
      "|    null| 2020-01-05 13:03:00|  2020-01-05 13:24:00|              null|      null|         117|         124|           null|         8.25|      38.46| 2.75|    0.0|       0.0|        2.29|     null|                  0.3|        43.8|        null|     null|                null|\n",
      "|       2| 2020-01-18 03:36:05|  2020-01-18 03:44:35|                 N|         1|          80|          80|              1|         1.43|        8.0|  0.5|    0.5|      1.86|         0.0|     null|                  0.3|       11.16|           1|        1|                 0.0|\n",
      "|    null| 2020-01-24 18:35:00|  2020-01-24 19:18:00|              null|      null|          45|         124|           null|        10.24|      40.45| 2.75|    0.0|       0.0|         0.0|     null|                  0.3|        43.5|        null|     null|                null|\n",
      "|       2| 2020-01-16 21:37:47|  2020-01-16 21:41:29|                 N|         1|         181|         181|              1|         0.61|        4.5|  0.5|    0.5|      1.45|         0.0|     null|                  0.3|        7.25|           1|        1|                 0.0|\n",
      "|       2| 2020-01-02 01:14:51|  2020-01-02 01:21:39|                 N|         1|          82|          56|              1|         1.62|        7.5|  0.5|    0.5|       0.0|         0.0|     null|                  0.3|         8.8|           2|        1|                 0.0|\n",
      "|       2| 2020-01-17 11:35:04|  2020-01-17 11:57:37|                 N|         1|         116|          74|              1|         3.43|       16.5|  0.0|    0.5|       1.0|         0.0|     null|                  0.3|        18.3|           1|        1|                 0.0|\n",
      "+--------+--------------------+---------------------+------------------+----------+------------+------------+---------------+-------------+-----------+-----+-------+----------+------------+---------+---------------------+------------+------------+---------+--------------------+\n",
      "only showing top 20 rows\n",
      "\n"
     ]
    }
   ],
   "source": [
    "df_green.show()"
   ]
  },
  {
   "cell_type": "code",
   "execution_count": 11,
   "id": "33f1b417",
   "metadata": {
    "scrolled": false
   },
   "outputs": [
    {
     "data": {
      "text/plain": [
       "[Row(VendorID=2, lpep_pickup_datetime=datetime.datetime(2020, 1, 16, 23, 31, 44), lpep_dropoff_datetime=datetime.datetime(2020, 1, 16, 23, 46, 21), store_and_fwd_flag='N', RatecodeID=1, PULocationID=65, DOLocationID=56, passenger_count=1, trip_distance=8.6, fare_amount=24.5, extra=0.5, mta_tax=0.5, tip_amount=0.0, tolls_amount=0.0, ehail_fee=None, improvement_surcharge=0.3, total_amount=25.8, payment_type=2, trip_type=1, congestion_surcharge=0.0),\n",
       " Row(VendorID=2, lpep_pickup_datetime=datetime.datetime(2020, 1, 14, 15, 1, 42), lpep_dropoff_datetime=datetime.datetime(2020, 1, 14, 15, 28, 14), store_and_fwd_flag='N', RatecodeID=1, PULocationID=129, DOLocationID=141, passenger_count=5, trip_distance=5.16, fare_amount=20.5, extra=0.0, mta_tax=0.5, tip_amount=0.0, tolls_amount=0.0, ehail_fee=None, improvement_surcharge=0.3, total_amount=24.05, payment_type=2, trip_type=1, congestion_surcharge=2.75),\n",
       " Row(VendorID=None, lpep_pickup_datetime=datetime.datetime(2020, 1, 24, 5, 55), lpep_dropoff_datetime=datetime.datetime(2020, 1, 24, 6, 26), store_and_fwd_flag=None, RatecodeID=None, PULocationID=242, DOLocationID=261, passenger_count=None, trip_distance=16.27, fare_amount=53.2, extra=2.75, mta_tax=0.5, tip_amount=0.0, tolls_amount=6.12, ehail_fee=None, improvement_surcharge=0.3, total_amount=62.87, payment_type=None, trip_type=None, congestion_surcharge=None),\n",
       " Row(VendorID=2, lpep_pickup_datetime=datetime.datetime(2020, 1, 31, 8, 19, 3), lpep_dropoff_datetime=datetime.datetime(2020, 1, 31, 8, 24, 35), store_and_fwd_flag='N', RatecodeID=1, PULocationID=166, DOLocationID=238, passenger_count=1, trip_distance=1.42, fare_amount=6.5, extra=0.0, mta_tax=0.5, tip_amount=1.46, tolls_amount=0.0, ehail_fee=None, improvement_surcharge=0.3, total_amount=8.76, payment_type=1, trip_type=1, congestion_surcharge=0.0),\n",
       " Row(VendorID=None, lpep_pickup_datetime=datetime.datetime(2020, 1, 12, 18, 54), lpep_dropoff_datetime=datetime.datetime(2020, 1, 12, 19, 11), store_and_fwd_flag=None, RatecodeID=None, PULocationID=41, DOLocationID=235, passenger_count=None, trip_distance=4.62, fare_amount=14.24, extra=0.0, mta_tax=0.0, tip_amount=0.0, tolls_amount=0.0, ehail_fee=None, improvement_surcharge=0.3, total_amount=14.54, payment_type=None, trip_type=None, congestion_surcharge=None)]"
      ]
     },
     "execution_count": 11,
     "metadata": {},
     "output_type": "execute_result"
    }
   ],
   "source": [
    "df_green.take(5)"
   ]
  },
  {
   "cell_type": "code",
   "execution_count": 14,
   "id": "6f4b6446",
   "metadata": {},
   "outputs": [],
   "source": [
    "rdd = df_green \\\n",
    "    .select('lpep_pickup_datetime', 'PULocationID', 'total_amount') \\\n",
    "    .rdd"
   ]
  },
  {
   "cell_type": "code",
   "execution_count": null,
   "id": "2766fd44",
   "metadata": {},
   "outputs": [],
   "source": []
  }
 ],
 "metadata": {
  "kernelspec": {
   "display_name": "Python 3 (ipykernel)",
   "language": "python",
   "name": "python3"
  },
  "language_info": {
   "codemirror_mode": {
    "name": "ipython",
    "version": 3
   },
   "file_extension": ".py",
   "mimetype": "text/x-python",
   "name": "python",
   "nbconvert_exporter": "python",
   "pygments_lexer": "ipython3",
   "version": "3.9.13"
  }
 },
 "nbformat": 4,
 "nbformat_minor": 5
}
